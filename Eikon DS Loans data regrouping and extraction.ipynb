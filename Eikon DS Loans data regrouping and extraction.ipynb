{
 "cells": [
  {
   "cell_type": "markdown",
   "metadata": {},
   "source": [
    "# Eikon DS Loans Data Regrouping and Extraction\n",
    "\n",
    "This Python script regroups data from multiple text files into yearly data, extracts a specific column ('Borrower SDC Cusip'), removes duplicates, and saves the results into Excel files."
   ]
  },
  {
   "cell_type": "code",
   "execution_count": 1,
   "metadata": {},
   "outputs": [
    {
     "name": "stdout",
     "output_type": "stream",
     "text": [
      "The files have been regrouped by year, the duplicates have been dropped, and the 'Borrower SDC Cusip' values have been extracted and saved as Excel files.\n"
     ]
    }
   ],
   "source": [
    "import os\n",
    "import pandas as pd\n",
    "\n",
    "# Define a function to regroup files by year\n",
    "def regroup_files_by_year(directory):\n",
    "    # Initialize a dictionary to store dataframes for each year\n",
    "    dataframes = {}\n",
    "\n",
    "    # Iterate over all files in the directory\n",
    "    for filename in os.listdir(directory):\n",
    "        # Check if the file is a txt file and starts with \"eikon DS loans\"\n",
    "        if filename.endswith(\".txt\") and filename.startswith(\"eikon DS loans\"):\n",
    "            # Extract the year from the filename\n",
    "            year = '20' + filename.split('-')[1][4:6]\n",
    "\n",
    "            # Read the file into a dataframe\n",
    "            df = pd.read_csv(os.path.join(directory, filename), delimiter=\"\\t\")\n",
    "\n",
    "            # If the year is already in the dictionary, append the new data\n",
    "            if year in dataframes:\n",
    "                dataframes[year] = pd.concat([dataframes[year], df])\n",
    "            # Otherwise, add the new data\n",
    "            else:\n",
    "                dataframes[year] = df\n",
    "\n",
    "    # Return the dictionary of dataframes\n",
    "    return dataframes\n",
    "\n",
    "# Call the function to regroup the files in the current directory\n",
    "dataframes = regroup_files_by_year(r\"C:\\Users\\GODLEWSKI\\OneDrive - unistra.fr\\DATA\\THOMSON REUTERS\\NEW 2022 + 2024\\Loans\\eikon DS loans\")\n",
    "\n",
    "# Iterate over the dataframes for each year\n",
    "for year, df in dataframes.items():\n",
    "    # Save the dataframe to a new Excel file\n",
    "    df.to_excel(f\"eikon DS loans {year}.xlsx\", index=False)\n",
    "\n",
    "    # Extract 'Borrower SDC Cusip' and remove duplicates\n",
    "    cusips = df['Borrower SDC Cusip '].drop_duplicates()\n",
    "\n",
    "    # Save the cusips to a new Excel file\n",
    "    cusips.to_excel(f\"eikon DS loans {year} cusips.xlsx\", index=False)\n",
    "\n",
    "# Print a success message\n",
    "print(\"The files have been regrouped by year, the duplicates have been dropped, and the 'Borrower SDC Cusip' values have been extracted and saved as Excel files.\")\n"
   ]
  }
 ],
 "metadata": {
  "kernelspec": {
   "display_name": "Python 3",
   "language": "python",
   "name": "python3"
  },
  "language_info": {
   "codemirror_mode": {
    "name": "ipython",
    "version": 3
   },
   "file_extension": ".py",
   "mimetype": "text/x-python",
   "name": "python",
   "nbconvert_exporter": "python",
   "pygments_lexer": "ipython3",
   "version": "3.12.2"
  }
 },
 "nbformat": 4,
 "nbformat_minor": 2
}
