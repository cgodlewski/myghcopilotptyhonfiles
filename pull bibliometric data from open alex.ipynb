{
 "cells": [
  {
   "cell_type": "markdown",
   "metadata": {},
   "source": [
    "# pull data bibliometric data from Open Alex using an ISSN (e.g. Revue Finance)"
   ]
  },
  {
   "cell_type": "code",
   "execution_count": 4,
   "metadata": {},
   "outputs": [
    {
     "name": "stdout",
     "output_type": "stream",
     "text": [
      "Data has been written to output.csv\n"
     ]
    }
   ],
   "source": [
    "import requests\n",
    "import csv\n",
    "import json\n",
    "\n",
    "# Replace 'YOUR_ISSN' with your journal's ISSN\n",
    "issn = '0752-6180'\n",
    "base_url = 'https://api.openalex.org/works'\n",
    "params = {\n",
    "    'filter': f'locations.source.issn:{issn}',\n",
    "    'per_page': 200,  # Increase the number of results per page to 200\n",
    "    'cursor': '*'  # Start with the first page of results\n",
    "}\n",
    "\n",
    "# Open a CSV file to write the data\n",
    "with open('output.csv', mode='w', newline='', encoding='utf-8') as file:\n",
    "    writer = csv.writer(file)\n",
    "    \n",
    "    # Write the header row\n",
    "    writer.writerow(['Title', 'Authors', 'Cited By Count', 'Publication Year'])\n",
    "    \n",
    "    while True:\n",
    "        # Send GET request to OpenAlex API\n",
    "        response = requests.get(base_url, params=params)\n",
    "        \n",
    "        # Check if the request was successful\n",
    "        if response.status_code == 200:\n",
    "            # Parse the JSON response\n",
    "            data = response.json()\n",
    "            \n",
    "            # Extract data for each work\n",
    "            for work in data['results']:\n",
    "                title = work['display_name']\n",
    "                authors = ', '.join([authorship['author']['display_name'] for authorship in work['authorships']])\n",
    "                cited_by_count = work['cited_by_count']\n",
    "                publication_year = work['publication_year']\n",
    "                \n",
    "                # Write the data row\n",
    "                writer.writerow([title, authors, cited_by_count, publication_year])\n",
    "            \n",
    "            # Retrieve the next cursor from the response\n",
    "            next_cursor = data['meta'].get('next_cursor')\n",
    "            if next_cursor:\n",
    "                params['cursor'] = next_cursor\n",
    "            else:\n",
    "                break\n",
    "        else:\n",
    "            print('Failed to retrieve data from OpenAlex API')\n",
    "            break\n",
    "\n",
    "print('Data has been written to output.csv')\n"
   ]
  }
 ],
 "metadata": {
  "kernelspec": {
   "display_name": "Python 3",
   "language": "python",
   "name": "python3"
  },
  "language_info": {
   "codemirror_mode": {
    "name": "ipython",
    "version": 3
   },
   "file_extension": ".py",
   "mimetype": "text/x-python",
   "name": "python",
   "nbconvert_exporter": "python",
   "pygments_lexer": "ipython3",
   "version": "3.12.2"
  }
 },
 "nbformat": 4,
 "nbformat_minor": 2
}
