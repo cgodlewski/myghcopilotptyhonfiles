{
 "cells": [
  {
   "cell_type": "markdown",
   "metadata": {},
   "source": [
    "# Eikon DS Loans Filtering Excel Data Based on Sector\n",
    "This script reads Excel files in a specified directory, filters the data based on the “TRBC Economic Sector Name” field, and writes the filtered data to new Excel files. \n",
    "The script is designed to handle Excel files with a specific naming convention and structure."
   ]
  },
  {
   "cell_type": "code",
   "execution_count": 4,
   "metadata": {},
   "outputs": [
    {
     "name": "stdout",
     "output_type": "stream",
     "text": [
      "Processing file: C:/Users/GODLEWSKI/OneDrive - unistra.fr/DATA/THOMSON REUTERS/NEW 2022 + 2024/Loans/eikon DS loans/excel files\\_eikon DS loans 2020 identification info.xlsx\n",
      "Number of financial firms: 1097\n",
      "Number of non-financial firms: 7195\n",
      "Processing file: C:/Users/GODLEWSKI/OneDrive - unistra.fr/DATA/THOMSON REUTERS/NEW 2022 + 2024/Loans/eikon DS loans/excel files\\_eikon DS loans 2021 identification info.xlsx\n",
      "Number of financial firms: 1649\n",
      "Number of non-financial firms: 8581\n",
      "Processing file: C:/Users/GODLEWSKI/OneDrive - unistra.fr/DATA/THOMSON REUTERS/NEW 2022 + 2024/Loans/eikon DS loans/excel files\\_eikon DS loans 2022 identification info.xlsx\n",
      "Number of financial firms: 1709\n",
      "Number of non-financial firms: 8839\n",
      "Processing file: C:/Users/GODLEWSKI/OneDrive - unistra.fr/DATA/THOMSON REUTERS/NEW 2022 + 2024/Loans/eikon DS loans/excel files\\_eikon DS loans 2023 identification info.xlsx\n",
      "Number of financial firms: 1498\n",
      "Number of non-financial firms: 7509\n",
      "Processing file: C:/Users/GODLEWSKI/OneDrive - unistra.fr/DATA/THOMSON REUTERS/NEW 2022 + 2024/Loans/eikon DS loans/excel files\\_eikon DS loans 2024 identification info.xlsx\n",
      "Number of financial firms: 93\n",
      "Number of non-financial firms: 537\n"
     ]
    }
   ],
   "source": [
    "import pandas as pd\n",
    "import os\n",
    "\n",
    "# Directory where your Excel files are located\n",
    "directory = 'C:/Users/GODLEWSKI/OneDrive - unistra.fr/DATA/THOMSON REUTERS/NEW 2022 + 2024/Loans/eikon DS loans/excel files'\n",
    "\n",
    "# Loop over the files in the directory\n",
    "for filename in os.listdir(directory):\n",
    "    if filename.startswith(\"_eikon DS loans\") and filename.endswith(\".xlsx\"):\n",
    "        # Construct the full file path\n",
    "        file_path = os.path.join(directory, filename)\n",
    "\n",
    "        # Read the Excel file\n",
    "        df = pd.read_excel(file_path)\n",
    "\n",
    "        # Ensure 'TRBC Economic Sector Name' is of type string\n",
    "        df['TRBC Economic Sector Name'] = df['TRBC Economic Sector Name'].astype(str)\n",
    "\n",
    "        # Filter out rows where 'TRBC Economic Sector Name' is empty or starts with 'Unable to collect data'\n",
    "        df = df[df['TRBC Economic Sector Name'].notna() & ~df['TRBC Economic Sector Name'].str.startswith('Unable to collect data')]\n",
    "\n",
    "        # Filter the data\n",
    "        financials_df = df[df['TRBC Economic Sector Name'] == 'Financials']\n",
    "        non_financials_df = df[df['TRBC Economic Sector Name'] != 'Financials']\n",
    "\n",
    "        # Write the filtered data to new Excel files\n",
    "        financials_df.to_excel(f\"{file_path[:-5]}_financials.xlsx\", index=False)\n",
    "        non_financials_df.to_excel(f\"{file_path[:-5]}_non_financials.xlsx\", index=False)\n",
    "\n",
    "        # Print out some information about each file as it's processed\n",
    "        print(f\"Processing file: {file_path}\")\n",
    "        print(f\"Number of financial firms: {len(financials_df)}\")\n",
    "        print(f\"Number of non-financial firms: {len(non_financials_df)}\")\n"
   ]
  }
 ],
 "metadata": {
  "kernelspec": {
   "display_name": "Python 3",
   "language": "python",
   "name": "python3"
  },
  "language_info": {
   "codemirror_mode": {
    "name": "ipython",
    "version": 3
   },
   "file_extension": ".py",
   "mimetype": "text/x-python",
   "name": "python",
   "nbconvert_exporter": "python",
   "pygments_lexer": "ipython3",
   "version": "3.12.2"
  }
 },
 "nbformat": 4,
 "nbformat_minor": 2
}
